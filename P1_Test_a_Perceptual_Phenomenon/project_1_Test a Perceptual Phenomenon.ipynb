{
 "cells": [
  {
   "cell_type": "markdown",
   "metadata": {},
   "source": [
    "# Project 1 : Test a Perceptual Phenomenon\n"
   ]
  },
  {
   "cell_type": "markdown",
   "metadata": {},
   "source": [
    "In this project, we will use descriptive statistics and a statistical test to analyze the Stroop effect, a classic result of experimental psychology.\n",
    "\n",
    "First of all, let's import some packages which will be used latter."
   ]
  },
  {
   "cell_type": "code",
   "execution_count": 1,
   "metadata": {
    "collapsed": false
   },
   "outputs": [],
   "source": [
    "import pandas as pd\n",
    "import numpy as np\n",
    "from scipy import stats\n",
    "import matplotlib.pyplot as plt\n",
    "import seaborn as sns\n",
    "%matplotlib inline\n",
    "sns.set()"
   ]
  },
  {
   "cell_type": "markdown",
   "metadata": {},
   "source": [
    "### 1. What is our independent variable? What is our dependent variable?"
   ]
  },
  {
   "cell_type": "markdown",
   "metadata": {},
   "source": [
    "The independent variable is the kind of conditions: a congruent words condition, and an incongruent words condition. \n",
    "\n",
    "The dependent variable is the time it takes to name the ink colors in equally-sized lists. "
   ]
  },
  {
   "cell_type": "markdown",
   "metadata": {},
   "source": [
    "### 2. What is an appropriate set of hypotheses for this task? What kind of statistical test do you expect to perform? Justify your choices."
   ]
  },
  {
   "cell_type": "markdown",
   "metadata": {},
   "source": [
    "We assume that the incongruent words condition may interference one's reaction time, which means people will take more time to read the incongruent words. This is a one side hypotheses test. \n",
    "\n",
    "The **null hypothesis** is that the reaction time of incongruent words condition is no longer than that of congruent words condition.\n",
    "\n",
    "The **alternative hypothesis** is that the reaction time is longer than that of congruent words condition.\n",
    "\n",
    "If we note $\\mu_1$ as the population mean of reaction time in  congruent words condition, while $\\mu_2$ as the population mean of reaction time in the incongruent words condition, then we can express the hypothese as follows:\n",
    "$$\n",
    "H_0: \\mu_2 - \\mu_1 <= 0 \\\\\n",
    "H_A: \\mu_2 - \\mu_1 > 0\n",
    "$$\n",
    "\n",
    "We will perform **t-Test** for three reasons.\n",
    "1. We are going to study the difference of two dependent sample means and do not know the population mean and standard deviation.\n",
    "2. The sample size is small (n=24).\n",
    "3. We assume the population data to be approximately normally distributed.(We guess this from the sample histogram bellow.)\n",
    "\n",
    "We assume the $\\alpha$ level of this t-Test is 1%, and this is a one-tailed test."
   ]
  },
  {
   "cell_type": "markdown",
   "metadata": {},
   "source": [
    "### 3. Report some descriptive statistics regarding this dataset. Include at least one measure of central tendency and at least one measure of variability."
   ]
  },
  {
   "cell_type": "markdown",
   "metadata": {},
   "source": [
    "Before calculating some statistics, we should read the data to a dataframe."
   ]
  },
  {
   "cell_type": "code",
   "execution_count": 2,
   "metadata": {
    "collapsed": false
   },
   "outputs": [],
   "source": [
    "df = pd.read_csv('stroopdata.csv')"
   ]
  },
  {
   "cell_type": "markdown",
   "metadata": {},
   "source": [
    "Then we calculate some descriptive statistics about central tendency and variability."
   ]
  },
  {
   "cell_type": "markdown",
   "metadata": {},
   "source": [
    "**mean:**"
   ]
  },
  {
   "cell_type": "code",
   "execution_count": null,
   "metadata": {
    "collapsed": true
   },
   "outputs": [],
   "source": [
    "print \"The mean time of congruent group is %.2fs\" % df.Congruent.mean()\n",
    "print \"The mean time of incongruent group is %.2fs\" % df.Incongruent.mean()"
   ]
  },
  {
   "cell_type": "markdown",
   "metadata": {},
   "source": [
    "** median:**"
   ]
  },
  {
   "cell_type": "code",
   "execution_count": 4,
   "metadata": {
    "collapsed": false
   },
   "outputs": [
    {
     "name": "stdout",
     "output_type": "stream",
     "text": [
      "The median time of congruent group is 14.36s\n",
      "The median time of incongruent group is 21.02s\n"
     ]
    }
   ],
   "source": [
    "print \"The median time of congruent group is %.2fs\" % df.Congruent.median()\n",
    "print \"The median time of incongruent group is %.2fs\" % df.Incongruent.median()"
   ]
  },
  {
   "cell_type": "markdown",
   "metadata": {},
   "source": [
    "**Variance:**"
   ]
  },
  {
   "cell_type": "code",
   "execution_count": 5,
   "metadata": {
    "collapsed": false
   },
   "outputs": [
    {
     "name": "stdout",
     "output_type": "stream",
     "text": [
      "The variance of congruent group is 12.67\n",
      "The variance of incongruent group is 23.01\n"
     ]
    }
   ],
   "source": [
    "print \"The variance of congruent group is %.2f\" % df.Congruent.var()\n",
    "print \"The variance of incongruent group is %.2f\" % df.Incongruent.var()"
   ]
  },
  {
   "cell_type": "markdown",
   "metadata": {},
   "source": [
    "** sample standard deviation:**"
   ]
  },
  {
   "cell_type": "code",
   "execution_count": 6,
   "metadata": {
    "collapsed": false
   },
   "outputs": [
    {
     "name": "stdout",
     "output_type": "stream",
     "text": [
      "The sample standard deviation of congruent group is 3.56\n",
      "The sample standard deviation of incongruent group is 4.80\n"
     ]
    }
   ],
   "source": [
    "print \"The sample standard deviation of congruent group is %.2f\" % df.Congruent.std()\n",
    "print \"The sample standard deviation of incongruent group is %.2f\" % df.Incongruent.std()"
   ]
  },
  {
   "cell_type": "markdown",
   "metadata": {},
   "source": [
    "### 4. Provide one or two visualizations that show the distribution of the sample data. Write one or two sentences noting what you observe about the plot or plots."
   ]
  },
  {
   "cell_type": "markdown",
   "metadata": {},
   "source": [
    "** historgrams **\n",
    "\n",
    "We first plot histograms for these two groups. From the plots shown below, we can see that the mode of congruent group is 12-14, while the mode of incongruent group is 20-22. \n"
   ]
  },
  {
   "cell_type": "code",
   "execution_count": 7,
   "metadata": {
    "collapsed": false
   },
   "outputs": [
    {
     "data": {
      "image/png": "[encoded data removed]",
      "text/plain": [
       "<matplotlib.figure.Figure at 0x11bc02950>"
      ]
     },
     "metadata": {},
     "output_type": "display_data"
    }
   ],
   "source": [
    "bins = range(8,37,2)\n",
    "fig = plt.figure(figsize=(10, 4))\n",
    "\n",
    "p1 = fig.add_subplot(121)\n",
    "plt.hist(df.Congruent, bins=bins)\n",
    "plt.title('Congruent Group')\n",
    "plt.xlabel('reaction time (s)')\n",
    "plt.ylabel('counts')\n",
    "\n",
    "p2 = fig.add_subplot(122)\n",
    "plt.hist(df.Incongruent, bins=bins, color = 'green')\n",
    "plt.title('Incongruent Group')\n",
    "plt.xlabel('reaction time (s)')\n",
    "plt.ylabel('counts')\n",
    "\n",
    "plt.show()"
   ]
  },
  {
   "cell_type": "markdown",
   "metadata": {},
   "source": [
    "** box plots **\n",
    "\n",
    "The flowing figures are box plots, which show clearly that the incongruent group takes more time than the congruent group. we can also see that there are two outliers in the incongruent group."
   ]
  },
  {
   "cell_type": "code",
   "execution_count": 8,
   "metadata": {
    "collapsed": false
   },
   "outputs": [
    {
     "data": {
      "image/png": "[encoded data removed]",
      "text/plain": [
       "<matplotlib.figure.Figure at 0x106cce950>"
      ]
     },
     "metadata": {},
     "output_type": "display_data"
    }
   ],
   "source": [
    "_ = sns.boxplot(data=df)"
   ]
  },
  {
   "cell_type": "markdown",
   "metadata": {},
   "source": [
    "** Empirical cumulative distribution function (ECDF) **\n",
    "\n",
    "The above two kinds of plots can not show all points in one figure, so we plot ECDF. From the ECDF we find that there is a significant sign that the reaction time of incongruent group is longer than that of congruent group."
   ]
  },
  {
   "cell_type": "code",
   "execution_count": 9,
   "metadata": {
    "collapsed": false
   },
   "outputs": [
    {
     "data": {
      "image/png": "[encoded data removed]",
      "text/plain": [
       "<matplotlib.figure.Figure at 0x11df3b410>"
      ]
     },
     "metadata": {},
     "output_type": "display_data"
    }
   ],
   "source": [
    "# Making an ECDF \n",
    "def plot_ecdf(data, label=''):\n",
    "    x = np.sort(data)\n",
    "    y = np.arange(1, len(x)+1) / float(len(x))\n",
    "    plt.plot(x, y, marker='.', linestyle='none', label=label)\n",
    "    plt.margins(0.02)\n",
    "    \n",
    "plot_ecdf(df.Congruent, label='Congruent group')\n",
    "plot_ecdf(df.Incongruent, label='Incongruent gruop')\n",
    "plt.xlabel('reaction time (s)')\n",
    "plt.ylabel('ECDF')\n",
    "plt.legend(loc = 'lower right')\n",
    "plt.show()"
   ]
  },
  {
   "cell_type": "markdown",
   "metadata": {},
   "source": [
    "### 5. Now, perform the statistical test and report your results. What is your confidence level and your critical statistic value? Do you reject the null hypothesis or fail to reject it? Come to a conclusion in terms of the experiment task. Did the results match up with your expectations?"
   ]
  },
  {
   "cell_type": "markdown",
   "metadata": {},
   "source": [
    "We assume the ** $\\alpha$ level is 1% **, and it's a one-side test. The **t critical value is 2.50 ** wihch can be calculated as follows."
   ]
  },
  {
   "cell_type": "markdown",
   "metadata": {},
   "source": [
    "The degree of freedom is 23."
   ]
  },
  {
   "cell_type": "code",
   "execution_count": 10,
   "metadata": {
    "collapsed": false
   },
   "outputs": [
    {
     "data": {
      "text/plain": [
       "23"
      ]
     },
     "execution_count": 10,
     "metadata": {},
     "output_type": "execute_result"
    }
   ],
   "source": [
    "degree = len(df) -1\n",
    "degree"
   ]
  },
  {
   "cell_type": "markdown",
   "metadata": {},
   "source": [
    "calculating t critical value:"
   ]
  },
  {
   "cell_type": "code",
   "execution_count": 11,
   "metadata": {
    "collapsed": false
   },
   "outputs": [
    {
     "data": {
      "text/plain": [
       "2.4998667394943985"
      ]
     },
     "execution_count": 11,
     "metadata": {},
     "output_type": "execute_result"
    }
   ],
   "source": [
    "stats.t.isf(0.01, degree)"
   ]
  },
  {
   "cell_type": "markdown",
   "metadata": {},
   "source": [
    "Then we use `scipy.stats.ttest_rel` function to get the t statistic and p value of these two dependent samples."
   ]
  },
  {
   "cell_type": "code",
   "execution_count": 12,
   "metadata": {
    "collapsed": false
   },
   "outputs": [
    {
     "name": "stdout",
     "output_type": "stream",
     "text": [
      "t statistic is 8.02\n",
      "p value is 0.0000000410\n"
     ]
    }
   ],
   "source": [
    "t_stats, p_value = stats.ttest_rel(df.Incongruent, df.Congruent)\n",
    "print \"t statistic is %.2f\" % t_stats\n",
    "print \"p value is %.10f\" % p_value"
   ]
  },
  {
   "cell_type": "markdown",
   "metadata": {},
   "source": [
    "We can also make the same calculation by hand."
   ]
  },
  {
   "cell_type": "code",
   "execution_count": 13,
   "metadata": {
    "collapsed": false
   },
   "outputs": [
    {
     "data": {
      "text/plain": [
       "8.020706944109957"
      ]
     },
     "execution_count": 13,
     "metadata": {},
     "output_type": "execute_result"
    }
   ],
   "source": [
    "diff = df.Incongruent - df.Congruent\n",
    "t_stats = diff.mean() / (diff.std() / np.sqrt(len(diff)))\n",
    "t_stats"
   ]
  },
  {
   "cell_type": "markdown",
   "metadata": {},
   "source": [
    "From the above calculation, **t statistic is 8.02** and **p value is 0.000000041**. \n",
    "\n",
    "Since t statistic is larger than t critical value (also p value is smaller than $\\alpha$ level), we can **reject** the null hypothesis. \n",
    "\n",
    "The **conclusion** is that the reaction of Incongruent word condition is longer than that of the congruent word condition, which matches up our expectation that the incongruent words condition may interference one's reaction time."
   ]
  },
  {
   "cell_type": "markdown",
   "metadata": {},
   "source": [
    "### 6. Optional: What do you think is responsible for the effects observed? Can you think of an alternative or similar task that would result in a similar effect? Some research about the problem will be helpful for thinking about these two questions!\n"
   ]
  },
  {
   "cell_type": "markdown",
   "metadata": {},
   "source": [
    "From [wikipedian](https://en.wikipedia.org/wiki/Stroop_effect), I find following theories used to explain the Stroop effect.\n",
    "\n",
    "- Processing speed\n",
    "- Selective attention\n",
    "- Automaticity\n",
    "- Parallel distributed processing"
   ]
  },
  {
   "cell_type": "markdown",
   "metadata": {},
   "source": [
    "However, I have another idea to explain this effect. I think the confliction in words' meanings makes one's brain react slowly. According to this assumption, I design a experiment: There are two groups, people in the first group act as what they are told, that is when the command is \"turn left\", they turn left; while people in the second group act as the opposite of the command, that is when the command is \"turn left\", they must turn right. We measure their reaction time to see if the second group takes more time to react."
   ]
  },
  {
   "cell_type": "code",
   "execution_count": null,
   "metadata": {
    "collapsed": true
   },
   "outputs": [],
   "source": []
  }
 ],
 "metadata": {
  "anaconda-cloud": {},
  "kernelspec": {
   "display_name": "Python 2",
   "language": "python",
   "name": "python2"
  },
  "language_info": {
   "codemirror_mode": {
    "name": "ipython",
    "version": 2
   },
   "file_extension": ".py",
   "mimetype": "text/x-python",
   "name": "python",
   "nbconvert_exporter": "python",
   "pygments_lexer": "ipython2",
   "version": "2.7.13"
  }
 },
 "nbformat": 4,
 "nbformat_minor": 0
}
